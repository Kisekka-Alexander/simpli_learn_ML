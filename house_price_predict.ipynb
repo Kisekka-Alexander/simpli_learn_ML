{
 "cells": [
  {
   "cell_type": "code",
   "execution_count": 4,
   "metadata": {},
   "outputs": [],
   "source": [
    "# Import necessary modules and libraries\n",
    "import pandas as pd\n",
    "import numpy as np\n",
    "import matplotlib.pyplot as plt\n",
    "from sklearn.metrics import r2_score, mean_squared_error\n",
    "from math import sqrt\n",
    "from sklearn.preprocessing import LabelEncoder\n",
    "from sklearn.linear_model import LinearRegression\n",
    "from sklearn.model_selection import train_test_split\n",
    "\n",
    "%matplotlib inline"
   ]
  },
  {
   "cell_type": "code",
   "execution_count": 5,
   "metadata": {},
   "outputs": [],
   "source": [
    "# 1. Load Data\n",
    "\n",
    "# Read the “housing.csv” file from the folder into the program.\n",
    "data = pd.read_csv('data/housing.csv')\n",
    "\n",
    "# Print first few rows of this data.\n",
    "data.head()\n",
    "\n",
    "#Extract input (X) and output (Y) data from the dataset.\n",
    "x = data.median_income\n",
    "y = data.median_house_value"
   ]
  },
  {
   "cell_type": "code",
   "execution_count": null,
   "metadata": {},
   "outputs": [],
   "source": [
    "# 2. Handle missing values\n",
    "#Fill the missing values with the mean of the respective column.\n",
    "data.isnull().sum()\n",
    "data[\"total_bedrooms\"] = data[\"total_bedrooms\"].fillna(data[\"total_bedrooms\"].mean())\n",
    "data.isnull().sum()\n",
    "\n"
   ]
  },
  {
   "cell_type": "code",
   "execution_count": null,
   "metadata": {},
   "outputs": [],
   "source": [
    "# 3. Encode categorical data\n",
    "# Convert categorical column in the dataset to numerical data.\n",
    "\n",
    "le = LabelEncoder()\n",
    "data[\"ocean_proximity\"] = le.fit_transform(data[\"ocean_proximity\"])\n",
    "data.head()\n"
   ]
  },
  {
   "cell_type": "code",
   "execution_count": 8,
   "metadata": {},
   "outputs": [],
   "source": [
    "# 4. Split the dataset\n",
    "# Split the data into 80% training dataset and 20% test dataset.\n",
    "\n",
    "train_data, test_data = train_test_split(data, test_size=0.20)\n"
   ]
  },
  {
   "cell_type": "code",
   "execution_count": 9,
   "metadata": {},
   "outputs": [],
   "source": [
    "# 5. Standardize training and test datasets.\n",
    "\n",
    "mean = np.mean(train_data, axis=0)\n",
    "std = np.std(train_data, axis=0)\n",
    "\n",
    "train_data_std = (train_data - mean)/std\n",
    "test_data_std = (test_data - mean)/std\n",
    "\n"
   ]
  }
 ],
 "metadata": {
  "kernelspec": {
   "display_name": "venv",
   "language": "python",
   "name": "python3"
  },
  "language_info": {
   "codemirror_mode": {
    "name": "ipython",
    "version": 3
   },
   "file_extension": ".py",
   "mimetype": "text/x-python",
   "name": "python",
   "nbconvert_exporter": "python",
   "pygments_lexer": "ipython3",
   "version": "3.10.6"
  },
  "orig_nbformat": 4
 },
 "nbformat": 4,
 "nbformat_minor": 2
}

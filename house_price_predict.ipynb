{
 "cells": [
  {
   "cell_type": "code",
   "execution_count": 58,
   "metadata": {},
   "outputs": [],
   "source": [
    "# Import necessary modules and libraries\n",
    "import pandas as pd\n",
    "import numpy as np\n",
    "import matplotlib.pyplot as plt\n",
    "from sklearn.metrics import r2_score, mean_squared_error, accuracy_score\n",
    "from math import sqrt\n",
    "from sklearn.preprocessing import LabelEncoder\n",
    "from sklearn.linear_model import LinearRegression\n",
    "from sklearn.model_selection import train_test_split\n",
    "from sklearn.tree import DecisionTreeRegressor\n",
    "from sklearn.ensemble import RandomForestRegressor\n",
    "\n",
    "%matplotlib inline"
   ]
  },
  {
   "cell_type": "code",
   "execution_count": null,
   "metadata": {},
   "outputs": [],
   "source": [
    "# 1. Load Data\n",
    "\n",
    "# Read the “housing.csv” file from the folder into the program.\n",
    "data = pd.read_csv('data/housing.csv')\n",
    "\n",
    "# Print first few rows of this data.\n",
    "data.head()\n",
    "\n",
    "#Extract input (X) and output (Y) data from the dataset.\n",
    "x = data.median_income\n",
    "y = data.median_house_value"
   ]
  },
  {
   "cell_type": "code",
   "execution_count": null,
   "metadata": {},
   "outputs": [],
   "source": [
    "# 2. Handle missing values\n",
    "#Fill the missing values with the mean of the respective column.\n",
    "data.isnull().sum()\n",
    "data[\"total_bedrooms\"] = data[\"total_bedrooms\"].fillna(data[\"total_bedrooms\"].mean())\n",
    "data.isnull().sum()\n",
    "\n"
   ]
  },
  {
   "cell_type": "code",
   "execution_count": null,
   "metadata": {},
   "outputs": [],
   "source": [
    "# 3. Encode categorical data\n",
    "# Convert categorical column in the dataset to numerical data.\n",
    "\n",
    "le = LabelEncoder()\n",
    "data[\"ocean_proximity\"] = le.fit_transform(data[\"ocean_proximity\"])\n"
   ]
  },
  {
   "cell_type": "code",
   "execution_count": 32,
   "metadata": {},
   "outputs": [],
   "source": [
    "# 4. Split the dataset\n",
    "# Split the data into 80% training dataset and 20% test dataset.\n",
    "feature_cols = ['longitude','latitude','housing_median_age','total_rooms','total_bedrooms','population','households','median_income','ocean_proximity']\n",
    "mean = np.mean(data, axis=0)\n",
    "std = np.std(data, axis=0)\n",
    "data = (data - mean)/std\n",
    "X = data[feature_cols]\n",
    "y = data.median_house_value\n",
    "X_train, X_test, y_train, y_test = train_test_split(X, y, test_size=0.2, random_state=0)\n"
   ]
  },
  {
   "cell_type": "code",
   "execution_count": 46,
   "metadata": {},
   "outputs": [
    {
     "name": "stdout",
     "output_type": "stream",
     "text": [
      "0.6051233507039978\n"
     ]
    }
   ],
   "source": [
    "# 6. Perform Linear Regression\n",
    "# Perform Linear Regression on training data.\n",
    "lm = LinearRegression()\n",
    "lm.fit(X_train, y_train)\n",
    "pred = lm.predict(X_test)\n",
    "\n",
    "# Print root mean squared error (RMSE) from Linear Regression.\n",
    "rmse = sqrt(mean_squared_error(y_test, pred))\n",
    "print(rmse)\n"
   ]
  },
  {
   "cell_type": "code",
   "execution_count": null,
   "metadata": {},
   "outputs": [],
   "source": [
    "#7. Perform Decision Tree Regression\n",
    "classifier = DecisionTreeRegressor()\n",
    "classifier.fit(X_train,y_train)\n",
    "\n",
    "#Predict output for test dataset using the fitted model\n",
    "y_predict = classifier.predict(X_test)\n",
    "\n",
    "#Print root mean squared error from Decision Tree Regression.\n",
    "rmse = sqrt(mean_squared_error(y_test, y_predict))\n",
    "print(rmse)\n"
   ]
  },
  {
   "cell_type": "code",
   "execution_count": 59,
   "metadata": {},
   "outputs": [
    {
     "name": "stdout",
     "output_type": "stream",
     "text": [
      "0.579764642156801\n"
     ]
    }
   ],
   "source": [
    "#8. Perform Random Forest Regression\n",
    "rfr = RandomForestRegressor()\n",
    "rfr.fit(X_train,y_train)\n",
    "\n",
    "# Predict output for test dataset using the fitted model.\n",
    "rfr_y_pred = rfr.predict(X_test)\n",
    "#Print root mean squared error from Random Forest Regression.\n",
    "rmse = sqrt(mean_squared_error(y_test, y_predict))\n",
    "print(rmse)\n"
   ]
  }
 ],
 "metadata": {
  "kernelspec": {
   "display_name": "venv",
   "language": "python",
   "name": "python3"
  },
  "language_info": {
   "codemirror_mode": {
    "name": "ipython",
    "version": 3
   },
   "file_extension": ".py",
   "mimetype": "text/x-python",
   "name": "python",
   "nbconvert_exporter": "python",
   "pygments_lexer": "ipython3",
   "version": "3.10.6"
  },
  "orig_nbformat": 4
 },
 "nbformat": 4,
 "nbformat_minor": 2
}
